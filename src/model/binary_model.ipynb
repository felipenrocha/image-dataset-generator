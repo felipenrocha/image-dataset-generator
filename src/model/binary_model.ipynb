{
 "cells": [
  {
   "cell_type": "code",
   "execution_count": 4,
   "id": "99662958-c1b6-4e9a-94ee-22e2fd6929f6",
   "metadata": {},
   "outputs": [],
   "source": [
    "import tensorflow as tf\n",
    "import numpy as np\n",
    "from tensorflow import keras\n",
    "import os\n",
    "import cv2\n",
    "from tensorflow.keras.preprocessing.image import ImageDataGenerator\n",
    "from tensorflow.keras.preprocessing import image\n",
    "import matplotlib.pyplot as plt\n",
    "from dotenv.main import load_dotenv\n"
   ]
  },
  {
   "cell_type": "code",
   "execution_count": 5,
   "id": "77c6b85e-a77f-4dee-9fc3-b70611562375",
   "metadata": {},
   "outputs": [
    {
     "ename": "FileNotFoundError",
     "evalue": "[WinError 3] O sistema não pode encontrar o caminho especificado: 'C:\\\\Users\\\\felip\\\\OneDrive\\\\Área de Trabalho\\\\TCC\\\\Code\\\\Scripts\\\\src\\\\model\\\\cats and dogs\\\\seg_train'",
     "output_type": "error",
     "traceback": [
      "\u001b[1;31m---------------------------------------------------------------------------\u001b[0m",
      "\u001b[1;31mFileNotFoundError\u001b[0m                         Traceback (most recent call last)",
      "Cell \u001b[1;32mIn[5], line 24\u001b[0m\n\u001b[0;32m     22\u001b[0m train_dataset_path \u001b[38;5;241m=\u001b[39m BASE_PATH \u001b[38;5;241m+\u001b[39m MODEL_NAME \u001b[38;5;241m+\u001b[39m \u001b[38;5;124m'\u001b[39m\u001b[38;5;124m\\\u001b[39m\u001b[38;5;124mseg_train\u001b[39m\u001b[38;5;124m'\u001b[39m\n\u001b[0;32m     23\u001b[0m validation_dataset_path \u001b[38;5;241m=\u001b[39m BASE_PATH \u001b[38;5;241m+\u001b[39m MODEL_NAME \u001b[38;5;241m+\u001b[39m \u001b[38;5;124m'\u001b[39m\u001b[38;5;124m\\\u001b[39m\u001b[38;5;124mseg_test\u001b[39m\u001b[38;5;124m'\u001b[39m\n\u001b[1;32m---> 24\u001b[0m num_classes \u001b[38;5;241m=\u001b[39m \u001b[38;5;28mlen\u001b[39m(\u001b[43mos\u001b[49m\u001b[38;5;241;43m.\u001b[39;49m\u001b[43mlistdir\u001b[49m\u001b[43m(\u001b[49m\u001b[43mtrain_dataset_path\u001b[49m\u001b[43m)\u001b[49m)\n",
      "\u001b[1;31mFileNotFoundError\u001b[0m: [WinError 3] O sistema não pode encontrar o caminho especificado: 'C:\\\\Users\\\\felip\\\\OneDrive\\\\Área de Trabalho\\\\TCC\\\\Code\\\\Scripts\\\\src\\\\model\\\\cats and dogs\\\\seg_train'"
     ]
    }
   ],
   "source": [
    " load_dotenv()\n",
    "\n",
    "\n",
    "from tensorflow.compat.v1 import ConfigProto\n",
    "from tensorflow.compat.v1 import InteractiveSession\n",
    "\n",
    "\n",
    "def fix_gpu():\n",
    "    config = ConfigProto()\n",
    "    config.gpu_options.allow_growth = True\n",
    "    session = InteractiveSession(config=config)\n",
    "\n",
    "\n",
    "\n",
    "\n",
    "BASE_PATH = os.getcwd() + '\\\\'\n",
    "MODEL_NAME = os.environ['MODEL_NAME'] \n",
    "\n",
    "\n",
    "\n",
    "# load datasets paths\n",
    "train_dataset_path = BASE_PATH + MODEL_NAME + '\\seg_train'\n",
    "validation_dataset_path = BASE_PATH + MODEL_NAME + '\\seg_test'\n",
    "num_classes = len(os.listdir(train_dataset_path))"
   ]
  },
  {
   "cell_type": "code",
   "execution_count": null,
   "id": "3a9eea2c-3dd3-468e-b993-deb9577fa8ff",
   "metadata": {},
   "outputs": [],
   "source": []
  }
 ],
 "metadata": {
  "kernelspec": {
   "display_name": "Python 3 (ipykernel)",
   "language": "python",
   "name": "python3"
  },
  "language_info": {
   "codemirror_mode": {
    "name": "ipython",
    "version": 3
   },
   "file_extension": ".py",
   "mimetype": "text/x-python",
   "name": "python",
   "nbconvert_exporter": "python",
   "pygments_lexer": "ipython3",
   "version": "3.9.18"
  }
 },
 "nbformat": 4,
 "nbformat_minor": 5
}

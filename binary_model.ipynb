{
 "cells": [
  {
   "cell_type": "code",
   "execution_count": 2,
   "id": "99662958-c1b6-4e9a-94ee-22e2fd6929f6",
   "metadata": {},
   "outputs": [],
   "source": [
    "import tensorflow as tf\n",
    "import numpy as np\n",
    "from tensorflow import keras\n",
    "import os\n",
    "import cv2\n",
    "from tensorflow.keras.preprocessing.image import ImageDataGenerator\n",
    "from tensorflow.keras.preprocessing import image\n",
    "import matplotlib.pyplot as plt\n",
    "from dotenv.main import load_dotenv\n"
   ]
  },
  {
   "cell_type": "code",
   "execution_count": 3,
   "id": "77c6b85e-a77f-4dee-9fc3-b70611562375",
   "metadata": {},
   "outputs": [],
   "source": [
    " load_dotenv()\n",
    "\n",
    "\n",
    "from tensorflow.compat.v1 import ConfigProto\n",
    "from tensorflow.compat.v1 import InteractiveSession\n",
    "\n",
    "\n",
    "def fix_gpu():\n",
    "    config = ConfigProto()\n",
    "    config.gpu_options.allow_growth = True\n",
    "    session = InteractiveSession(config=config)\n",
    "\n",
    "\n",
    "\n",
    "\n",
    "BASE_PATH = os.getcwd() + '\\\\'\n",
    "MODEL_NAME = os.environ['MODEL_NAME'] \n",
    "\n",
    "\n",
    "\n",
    "# load datasets paths\n",
    "train_dataset_path = BASE_PATH + MODEL_NAME + '\\seg_train'\n",
    "validation_dataset_path = BASE_PATH + MODEL_NAME + '\\seg_test'\n",
    "num_classes = len(os.listdir(train_dataset_path))"
   ]
  },
  {
   "cell_type": "code",
   "execution_count": 4,
   "id": "3a9eea2c-3dd3-468e-b993-deb9577fa8ff",
   "metadata": {},
   "outputs": [
    {
     "name": "stdout",
     "output_type": "stream",
     "text": [
      "Found 4301 images belonging to 2 classes.\n",
      "Found 1073 images belonging to 2 classes.\n"
     ]
    }
   ],
   "source": [
    "train = ImageDataGenerator(rescale=1/255)\n",
    "test = ImageDataGenerator(rescale=1/255)\n",
    "\n",
    "train_dataset = train.flow_from_directory(train_dataset_path,\n",
    "                                          target_size=(256,256),\n",
    "                                          batch_size = 32,\n",
    "                                          class_mode = 'binary')\n",
    "                                         \n",
    "test_dataset = test.flow_from_directory(validation_dataset_path,\n",
    "                                          target_size=(256,256),\n",
    "                                          batch_size =32,\n",
    "                                          class_mode = 'binary')"
   ]
  },
  {
   "cell_type": "code",
   "execution_count": 5,
   "id": "e4f9e352-dad4-4dfa-95b8-3e5c818ecc56",
   "metadata": {},
   "outputs": [],
   "source": [
    "model = keras.Sequential()\n",
    "\n",
    "# Convolutional layer and maxpool layer 1\n",
    "model.add(keras.layers.Conv2D(32,(3,3),activation='relu',input_shape=(256,256,3)))\n",
    "model.add(keras.layers.MaxPool2D(2,2))\n",
    "\n",
    "# Convolutional layer and maxpool layer 2\n",
    "model.add(keras.layers.Conv2D(64,(3,3),activation='relu'))\n",
    "model.add(keras.layers.MaxPool2D(2,2))\n",
    "\n",
    "# Convolutional layer and maxpool layer 3\n",
    "model.add(keras.layers.Conv2D(128,(3,3),activation='relu'))\n",
    "model.add(keras.layers.MaxPool2D(2,2))\n",
    "\n",
    "# Convolutional layer and maxpool layer 4\n",
    "model.add(keras.layers.Conv2D(128,(3,3),activation='relu'))\n",
    "model.add(keras.layers.MaxPool2D(2,2))\n",
    "\n",
    "# This layer flattens the resulting image array to 1D array\n",
    "model.add(keras.layers.Flatten())\n",
    "\n",
    "# Hidden layer with 512 neurons and Rectified Linear Unit activation function \n",
    "model.add(keras.layers.Dense(512,activation='relu'))\n",
    "\n",
    "# Output layer with single neuron which gives 0 for Cat or 1 for Dog \n",
    "#Here we use sigmoid activation function which makes our model output to lie between 0 and 1\n",
    "model.add(keras.layers.Dense(1,activation='sigmoid'))"
   ]
  },
  {
   "cell_type": "code",
   "execution_count": null,
   "id": "222e4ca1-f0cd-4517-b050-940c5e69e156",
   "metadata": {},
   "outputs": [
    {
     "name": "stdout",
     "output_type": "stream",
     "text": [
      "Epoch 1/50\n",
      "135/135 [==============================] - 38s 276ms/step - loss: 0.6552 - accuracy: 0.6133 - val_loss: 0.5988 - val_accuracy: 0.6794\n",
      "Epoch 2/50\n",
      "135/135 [==============================] - 33s 241ms/step - loss: 0.6467 - accuracy: 0.6259 - val_loss: 0.6128 - val_accuracy: 0.6477\n",
      "Epoch 3/50\n",
      "135/135 [==============================] - 38s 277ms/step - loss: 0.6334 - accuracy: 0.6482 - val_loss: 0.6014 - val_accuracy: 0.6673\n",
      "Epoch 4/50\n",
      "135/135 [==============================] - 36s 269ms/step - loss: 0.6173 - accuracy: 0.6578 - val_loss: 0.6412 - val_accuracy: 0.6496\n",
      "Epoch 5/50\n",
      "135/135 [==============================] - 37s 272ms/step - loss: 0.5889 - accuracy: 0.6768 - val_loss: 0.5995 - val_accuracy: 0.6813\n",
      "Epoch 6/50\n",
      "135/135 [==============================] - 35s 256ms/step - loss: 0.5425 - accuracy: 0.7161 - val_loss: 0.6982 - val_accuracy: 0.6710\n",
      "Epoch 7/50\n",
      "135/135 [==============================] - 35s 257ms/step - loss: 0.4833 - accuracy: 0.7652 - val_loss: 0.7473 - val_accuracy: 0.6580\n",
      "Epoch 8/50\n",
      "135/135 [==============================] - 34s 254ms/step - loss: 0.4048 - accuracy: 0.8080 - val_loss: 0.9423 - val_accuracy: 0.6468\n",
      "Epoch 9/50\n",
      "135/135 [==============================] - 38s 283ms/step - loss: 0.3092 - accuracy: 0.8642 - val_loss: 1.0484 - val_accuracy: 0.6533\n",
      "Epoch 10/50\n",
      "135/135 [==============================] - 51s 377ms/step - loss: 0.2260 - accuracy: 0.9147 - val_loss: 1.2764 - val_accuracy: 0.6393\n",
      "Epoch 11/50\n",
      "135/135 [==============================] - 61s 452ms/step - loss: 0.1447 - accuracy: 0.9516 - val_loss: 1.3090 - val_accuracy: 0.6552\n",
      "Epoch 12/50\n",
      "135/135 [==============================] - 62s 456ms/step - loss: 0.1141 - accuracy: 0.9698 - val_loss: 1.7199 - val_accuracy: 0.6328\n",
      "Epoch 13/50\n",
      "135/135 [==============================] - 67s 496ms/step - loss: 0.0955 - accuracy: 0.9777 - val_loss: 1.5809 - val_accuracy: 0.6449\n",
      "Epoch 14/50\n",
      "135/135 [==============================] - 60s 443ms/step - loss: 0.0690 - accuracy: 0.9828 - val_loss: 1.8555 - val_accuracy: 0.6608\n",
      "Epoch 15/50\n",
      "135/135 [==============================] - 63s 468ms/step - loss: 0.0624 - accuracy: 0.9847 - val_loss: 1.5101 - val_accuracy: 0.6654\n",
      "Epoch 16/50\n",
      "135/135 [==============================] - 62s 456ms/step - loss: 0.0519 - accuracy: 0.9858 - val_loss: 1.7974 - val_accuracy: 0.6524\n",
      "Epoch 17/50\n",
      "135/135 [==============================] - 66s 492ms/step - loss: 0.0485 - accuracy: 0.9870 - val_loss: 1.5717 - val_accuracy: 0.6291\n",
      "Epoch 18/50\n",
      "135/135 [==============================] - 67s 496ms/step - loss: 0.0565 - accuracy: 0.9842 - val_loss: 1.5156 - val_accuracy: 0.6505\n",
      "Epoch 19/50\n",
      "135/135 [==============================] - 51s 378ms/step - loss: 0.0483 - accuracy: 0.9860 - val_loss: 1.5229 - val_accuracy: 0.6552\n",
      "Epoch 20/50\n",
      "135/135 [==============================] - 35s 258ms/step - loss: 0.0419 - accuracy: 0.9849 - val_loss: 1.5845 - val_accuracy: 0.6673\n",
      "Epoch 21/50\n",
      "131/135 [============================>.] - ETA: 0s - loss: 0.0373 - accuracy: 0.9851"
     ]
    }
   ],
   "source": [
    "model.compile(optimizer='adam',loss='binary_crossentropy',metrics=['accuracy'])\n",
    "\n",
    "model.fit(train_dataset,\n",
    "         epochs = 50,\n",
    "         validation_data = test_dataset, verbose=1\n",
    "         )"
   ]
  },
  {
   "cell_type": "code",
   "execution_count": null,
   "id": "d08e74b9-9dea-4707-959f-1a434d93379f",
   "metadata": {},
   "outputs": [],
   "source": []
  }
 ],
 "metadata": {
  "kernelspec": {
   "display_name": "Python 3 (ipykernel)",
   "language": "python",
   "name": "python3"
  },
  "language_info": {
   "codemirror_mode": {
    "name": "ipython",
    "version": 3
   },
   "file_extension": ".py",
   "mimetype": "text/x-python",
   "name": "python",
   "nbconvert_exporter": "python",
   "pygments_lexer": "ipython3",
   "version": "3.9.18"
  }
 },
 "nbformat": 4,
 "nbformat_minor": 5
}
